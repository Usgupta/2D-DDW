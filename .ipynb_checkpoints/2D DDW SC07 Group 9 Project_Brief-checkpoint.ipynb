{
 "cells": [
  {
   "cell_type": "markdown",
   "metadata": {
    "deletable": false,
    "editable": false,
    "nbgrader": {
     "grade": false,
     "locked": true,
     "solution": false
    }
   },
   "source": [
    "# 2D Design Template"
   ]
  },
  {
   "cell_type": "markdown",
   "metadata": {
    "deletable": false,
    "editable": false,
    "nbgrader": {
     "grade": false,
     "locked": true,
     "solution": false
    }
   },
   "source": [
    "# Overview\n",
    "\n",
    "The purpose of this project is for you to apply what you have learnt in this course. This includes working with data and visualizing it, create model of linear regression or logistic regression, as well as using metrics to measure the accuracy of your model. \n",
    "\n",
    "Please find the project handout description in the following link:\n",
    "- [DDW-MU-Humanities Handout](https://sutdapac-my.sharepoint.com/:b:/g/personal/franklin_anariba_sutd_edu_sg/EaonbI8dXvFHr5I75zUAhGEBXflfC4aZEqtcxPYHS5Jciw?e=s6UTbq)\n",
    "- [DDW-MU-SocialStudies Handout](https://sutdapac-my.sharepoint.com/:b:/g/personal/franklin_anariba_sutd_edu_sg/ETaVN6doTnJElS0Egw34XYQB_VYCwijjNk_05Ft4RctYjg?e=X8iVbw)\n",
    "\n",
    "There are two parts.\n",
    "- Part 1 is related to predicting COVID-19 deaths\n",
    "- Part 2 is open ended and you can find the problem of your interest as long as it is related to COVID-19. The only requirements are the following:\n",
    "    - The problem can be modelled either using Linear Regression (or Multiple Linear Regression) or Logistic Regression. This means either you are working with continous numerical data or classification. You are not allowed to use Neural Networks or other Machine Learning models.\n",
    "    - You must use Python and Jupyter Notebook\n",
    "\n",
    "The following tasks are a general guide to help you do your project for Part 2:\n",
    "1. Find an interesting problem which you can solve either using Linear Regression or Classification\n",
    "1. Find a dataset to build your model. You can use [Kaggle](https://www.kaggle.com/datasets) to find your datasets.\n",
    "1. Use plots to visualize and understand your data.\n",
    "1. Create training and test data set.\n",
    "1. Build your model\n",
    "1. Use metrics to evaluate your model.\n",
    "1. Improve your model"
   ]
  },
  {
   "cell_type": "markdown",
   "metadata": {
    "deletable": false,
    "editable": false,
    "nbgrader": {
     "grade": false,
     "locked": true,
     "solution": false
    }
   },
   "source": [
    "## Deliverables\n",
    "\n",
    "You need to submit this Jupyter notebook together with the dataset into Vocareum. Use the template in this notebook to work on this project."
   ]
  },
  {
   "cell_type": "markdown",
   "metadata": {
    "deletable": false,
    "editable": false,
    "nbgrader": {
     "grade": false,
     "locked": true,
     "solution": false
    }
   },
   "source": [
    "## Rubrics\n",
    "\n",
    "The rubrics for the scoring can be found in [this link](https://sutdapac-my.sharepoint.com/:b:/g/personal/franklin_anariba_sutd_edu_sg/EdLkuzyCrrJBp5QfVGtdHn8Bj3_epWiQMqv2mwyEei_3JQ?e=fLB0QN)."
   ]
  },
  {
   "cell_type": "markdown",
   "metadata": {},
   "source": [
    "## Students Submission\n",
    "\n",
    "Student's Name:\n",
    "- Ng Jie Lin 1005476\n",
    "- Umang Gupta 1005393\n",
    "- Lee Cheng Xin 1005056\n",
    "- Yeo Ke Wei 1005165"
   ]
  },
  {
   "cell_type": "markdown",
   "metadata": {},
   "source": [
    "# Part 1"
   ]
  },
  {
   "cell_type": "markdown",
   "metadata": {},
   "source": [
    "Write your report here"
   ]
  },
  {
   "cell_type": "code",
   "execution_count": 3,
   "metadata": {},
   "outputs": [],
   "source": [
    "# write your code here"
   ]
  },
  {
   "cell_type": "markdown",
   "metadata": {},
   "source": [
    "# Part 2"
   ]
  },
  {
   "cell_type": "markdown",
   "metadata": {},
   "source": [
    "### Overview About the Problem\n",
    "\n",
    "Describe here the problem you are trying to solve.\n",
    "\n",
    "COVID-19 vaccination number in the world is affected by a number of factors. In this digitalised age, where media and internet play a huge role in spreading information about vaccination, we see how might the total vaccination number of a country is dependent on the freedom or press in the country and the percentage of population having access to internet"
   ]
  },
  {
   "cell_type": "markdown",
   "metadata": {},
   "source": [
    "### Dataset\n",
    "\n",
    "The dataset contains 4 columns namely:\n",
    "\n",
    "1. location: Country name\n",
    "2. max_vacc: Maximum vaccinated people per 100. This column was calculated by finding the maximum % of people vaccinated at any point of time in the country. \n",
    "3. Freedom of Press: Freedom of press index for 2021. The higher the index, the more \"free\" the press in that country is. Detailed methology on how the index was calculated can be found <a href = \"https://rsf.org/en/detailed-methodology\">here</a>.\n",
    "4. Internet: Percentage of population having access to internet\n",
    "\n",
    "\n",
    "Sources of dataset\n",
    "\n",
    "1. Freedom of Press Index: https://rsf.org/en/ranking_table?\n",
    "2. Internet indicator: https://data.worldbank.org/indicator/IT.NET.USER.ZS\n",
    "3. Vaccination data: https://github.com/owid/covid-19-data/tree/master/public/data\n",
    "\n",
    "The data was obtained from these sources and merged based on the country/location. As the datasets do not include all countries, some data may have 1 blank feature, although during modelling they are filtered out. "
   ]
  },
  {
   "cell_type": "code",
   "execution_count": 4,
   "metadata": {},
   "outputs": [],
   "source": [
    "import numpy as np\n",
    "import seaborn as sns\n",
    "import pandas as pd\n",
    "import datetime\n",
    "\n",
    "import numpy as np\n",
    "import pandas as pd\n",
    "import matplotlib.pyplot as plt\n",
    "import math"
   ]
  },
  {
   "cell_type": "code",
   "execution_count": 5,
   "metadata": {},
   "outputs": [
    {
     "ename": "FileNotFoundError",
     "evalue": "[Errno 2] No such file or directory: 'vacc_vs_trustmediagov_net.csv'",
     "output_type": "error",
     "traceback": [
      "\u001b[0;31m---------------------------------------------------------------------------\u001b[0m",
      "\u001b[0;31mFileNotFoundError\u001b[0m                         Traceback (most recent call last)",
      "\u001b[0;32m<ipython-input-5-133239876889>\u001b[0m in \u001b[0;36m<module>\u001b[0;34m\u001b[0m\n\u001b[0;32m----> 1\u001b[0;31m \u001b[0mdf\u001b[0m \u001b[0;34m=\u001b[0m \u001b[0mpd\u001b[0m\u001b[0;34m.\u001b[0m\u001b[0mread_csv\u001b[0m\u001b[0;34m(\u001b[0m\u001b[0;34m\"vacc_vs_trustmediagov_net.csv\"\u001b[0m\u001b[0;34m)\u001b[0m\u001b[0;34m\u001b[0m\u001b[0;34m\u001b[0m\u001b[0m\n\u001b[0m\u001b[1;32m      2\u001b[0m \u001b[0msns\u001b[0m\u001b[0;34m.\u001b[0m\u001b[0mset\u001b[0m\u001b[0;34m(\u001b[0m\u001b[0;34m)\u001b[0m\u001b[0;34m\u001b[0m\u001b[0;34m\u001b[0m\u001b[0m\n\u001b[1;32m      3\u001b[0m \u001b[0msns\u001b[0m\u001b[0;34m.\u001b[0m\u001b[0mpairplot\u001b[0m\u001b[0;34m(\u001b[0m\u001b[0mdf\u001b[0m\u001b[0;34m,\u001b[0m\u001b[0mx_vars\u001b[0m\u001b[0;34m=\u001b[0m\u001b[0;34m[\u001b[0m\u001b[0;34m\"max_vacc\"\u001b[0m\u001b[0;34m,\u001b[0m\u001b[0;34m\"Freedom of Press\"\u001b[0m\u001b[0;34m,\u001b[0m\u001b[0;34m\"Internet\"\u001b[0m\u001b[0;34m]\u001b[0m\u001b[0;34m,\u001b[0m \u001b[0my_vars\u001b[0m\u001b[0;34m=\u001b[0m\u001b[0;34m[\u001b[0m\u001b[0;34m\"max_vacc\"\u001b[0m\u001b[0;34m,\u001b[0m\u001b[0;34m\"Freedom of Press\"\u001b[0m\u001b[0;34m,\u001b[0m\u001b[0;34m\"Internet\"\u001b[0m\u001b[0;34m]\u001b[0m\u001b[0;34m)\u001b[0m\u001b[0;34m\u001b[0m\u001b[0;34m\u001b[0m\u001b[0m\n",
      "\u001b[0;32m/opt/anaconda3/lib/python3.8/site-packages/pandas/io/parsers.py\u001b[0m in \u001b[0;36mread_csv\u001b[0;34m(filepath_or_buffer, sep, delimiter, header, names, index_col, usecols, squeeze, prefix, mangle_dupe_cols, dtype, engine, converters, true_values, false_values, skipinitialspace, skiprows, skipfooter, nrows, na_values, keep_default_na, na_filter, verbose, skip_blank_lines, parse_dates, infer_datetime_format, keep_date_col, date_parser, dayfirst, cache_dates, iterator, chunksize, compression, thousands, decimal, lineterminator, quotechar, quoting, doublequote, escapechar, comment, encoding, dialect, error_bad_lines, warn_bad_lines, delim_whitespace, low_memory, memory_map, float_precision, storage_options)\u001b[0m\n\u001b[1;32m    608\u001b[0m     \u001b[0mkwds\u001b[0m\u001b[0;34m.\u001b[0m\u001b[0mupdate\u001b[0m\u001b[0;34m(\u001b[0m\u001b[0mkwds_defaults\u001b[0m\u001b[0;34m)\u001b[0m\u001b[0;34m\u001b[0m\u001b[0;34m\u001b[0m\u001b[0m\n\u001b[1;32m    609\u001b[0m \u001b[0;34m\u001b[0m\u001b[0m\n\u001b[0;32m--> 610\u001b[0;31m     \u001b[0;32mreturn\u001b[0m \u001b[0m_read\u001b[0m\u001b[0;34m(\u001b[0m\u001b[0mfilepath_or_buffer\u001b[0m\u001b[0;34m,\u001b[0m \u001b[0mkwds\u001b[0m\u001b[0;34m)\u001b[0m\u001b[0;34m\u001b[0m\u001b[0;34m\u001b[0m\u001b[0m\n\u001b[0m\u001b[1;32m    611\u001b[0m \u001b[0;34m\u001b[0m\u001b[0m\n\u001b[1;32m    612\u001b[0m \u001b[0;34m\u001b[0m\u001b[0m\n",
      "\u001b[0;32m/opt/anaconda3/lib/python3.8/site-packages/pandas/io/parsers.py\u001b[0m in \u001b[0;36m_read\u001b[0;34m(filepath_or_buffer, kwds)\u001b[0m\n\u001b[1;32m    460\u001b[0m \u001b[0;34m\u001b[0m\u001b[0m\n\u001b[1;32m    461\u001b[0m     \u001b[0;31m# Create the parser.\u001b[0m\u001b[0;34m\u001b[0m\u001b[0;34m\u001b[0m\u001b[0;34m\u001b[0m\u001b[0m\n\u001b[0;32m--> 462\u001b[0;31m     \u001b[0mparser\u001b[0m \u001b[0;34m=\u001b[0m \u001b[0mTextFileReader\u001b[0m\u001b[0;34m(\u001b[0m\u001b[0mfilepath_or_buffer\u001b[0m\u001b[0;34m,\u001b[0m \u001b[0;34m**\u001b[0m\u001b[0mkwds\u001b[0m\u001b[0;34m)\u001b[0m\u001b[0;34m\u001b[0m\u001b[0;34m\u001b[0m\u001b[0m\n\u001b[0m\u001b[1;32m    463\u001b[0m \u001b[0;34m\u001b[0m\u001b[0m\n\u001b[1;32m    464\u001b[0m     \u001b[0;32mif\u001b[0m \u001b[0mchunksize\u001b[0m \u001b[0;32mor\u001b[0m \u001b[0miterator\u001b[0m\u001b[0;34m:\u001b[0m\u001b[0;34m\u001b[0m\u001b[0;34m\u001b[0m\u001b[0m\n",
      "\u001b[0;32m/opt/anaconda3/lib/python3.8/site-packages/pandas/io/parsers.py\u001b[0m in \u001b[0;36m__init__\u001b[0;34m(self, f, engine, **kwds)\u001b[0m\n\u001b[1;32m    817\u001b[0m             \u001b[0mself\u001b[0m\u001b[0;34m.\u001b[0m\u001b[0moptions\u001b[0m\u001b[0;34m[\u001b[0m\u001b[0;34m\"has_index_names\"\u001b[0m\u001b[0;34m]\u001b[0m \u001b[0;34m=\u001b[0m \u001b[0mkwds\u001b[0m\u001b[0;34m[\u001b[0m\u001b[0;34m\"has_index_names\"\u001b[0m\u001b[0;34m]\u001b[0m\u001b[0;34m\u001b[0m\u001b[0;34m\u001b[0m\u001b[0m\n\u001b[1;32m    818\u001b[0m \u001b[0;34m\u001b[0m\u001b[0m\n\u001b[0;32m--> 819\u001b[0;31m         \u001b[0mself\u001b[0m\u001b[0;34m.\u001b[0m\u001b[0m_engine\u001b[0m \u001b[0;34m=\u001b[0m \u001b[0mself\u001b[0m\u001b[0;34m.\u001b[0m\u001b[0m_make_engine\u001b[0m\u001b[0;34m(\u001b[0m\u001b[0mself\u001b[0m\u001b[0;34m.\u001b[0m\u001b[0mengine\u001b[0m\u001b[0;34m)\u001b[0m\u001b[0;34m\u001b[0m\u001b[0;34m\u001b[0m\u001b[0m\n\u001b[0m\u001b[1;32m    820\u001b[0m \u001b[0;34m\u001b[0m\u001b[0m\n\u001b[1;32m    821\u001b[0m     \u001b[0;32mdef\u001b[0m \u001b[0mclose\u001b[0m\u001b[0;34m(\u001b[0m\u001b[0mself\u001b[0m\u001b[0;34m)\u001b[0m\u001b[0;34m:\u001b[0m\u001b[0;34m\u001b[0m\u001b[0;34m\u001b[0m\u001b[0m\n",
      "\u001b[0;32m/opt/anaconda3/lib/python3.8/site-packages/pandas/io/parsers.py\u001b[0m in \u001b[0;36m_make_engine\u001b[0;34m(self, engine)\u001b[0m\n\u001b[1;32m   1048\u001b[0m             )\n\u001b[1;32m   1049\u001b[0m         \u001b[0;31m# error: Too many arguments for \"ParserBase\"\u001b[0m\u001b[0;34m\u001b[0m\u001b[0;34m\u001b[0m\u001b[0;34m\u001b[0m\u001b[0m\n\u001b[0;32m-> 1050\u001b[0;31m         \u001b[0;32mreturn\u001b[0m \u001b[0mmapping\u001b[0m\u001b[0;34m[\u001b[0m\u001b[0mengine\u001b[0m\u001b[0;34m]\u001b[0m\u001b[0;34m(\u001b[0m\u001b[0mself\u001b[0m\u001b[0;34m.\u001b[0m\u001b[0mf\u001b[0m\u001b[0;34m,\u001b[0m \u001b[0;34m**\u001b[0m\u001b[0mself\u001b[0m\u001b[0;34m.\u001b[0m\u001b[0moptions\u001b[0m\u001b[0;34m)\u001b[0m  \u001b[0;31m# type: ignore[call-arg]\u001b[0m\u001b[0;34m\u001b[0m\u001b[0;34m\u001b[0m\u001b[0m\n\u001b[0m\u001b[1;32m   1051\u001b[0m \u001b[0;34m\u001b[0m\u001b[0m\n\u001b[1;32m   1052\u001b[0m     \u001b[0;32mdef\u001b[0m \u001b[0m_failover_to_python\u001b[0m\u001b[0;34m(\u001b[0m\u001b[0mself\u001b[0m\u001b[0;34m)\u001b[0m\u001b[0;34m:\u001b[0m\u001b[0;34m\u001b[0m\u001b[0;34m\u001b[0m\u001b[0m\n",
      "\u001b[0;32m/opt/anaconda3/lib/python3.8/site-packages/pandas/io/parsers.py\u001b[0m in \u001b[0;36m__init__\u001b[0;34m(self, src, **kwds)\u001b[0m\n\u001b[1;32m   1865\u001b[0m \u001b[0;34m\u001b[0m\u001b[0m\n\u001b[1;32m   1866\u001b[0m         \u001b[0;31m# open handles\u001b[0m\u001b[0;34m\u001b[0m\u001b[0;34m\u001b[0m\u001b[0;34m\u001b[0m\u001b[0m\n\u001b[0;32m-> 1867\u001b[0;31m         \u001b[0mself\u001b[0m\u001b[0;34m.\u001b[0m\u001b[0m_open_handles\u001b[0m\u001b[0;34m(\u001b[0m\u001b[0msrc\u001b[0m\u001b[0;34m,\u001b[0m \u001b[0mkwds\u001b[0m\u001b[0;34m)\u001b[0m\u001b[0;34m\u001b[0m\u001b[0;34m\u001b[0m\u001b[0m\n\u001b[0m\u001b[1;32m   1868\u001b[0m         \u001b[0;32massert\u001b[0m \u001b[0mself\u001b[0m\u001b[0;34m.\u001b[0m\u001b[0mhandles\u001b[0m \u001b[0;32mis\u001b[0m \u001b[0;32mnot\u001b[0m \u001b[0;32mNone\u001b[0m\u001b[0;34m\u001b[0m\u001b[0;34m\u001b[0m\u001b[0m\n\u001b[1;32m   1869\u001b[0m         \u001b[0;32mfor\u001b[0m \u001b[0mkey\u001b[0m \u001b[0;32min\u001b[0m \u001b[0;34m(\u001b[0m\u001b[0;34m\"storage_options\"\u001b[0m\u001b[0;34m,\u001b[0m \u001b[0;34m\"encoding\"\u001b[0m\u001b[0;34m,\u001b[0m \u001b[0;34m\"memory_map\"\u001b[0m\u001b[0;34m,\u001b[0m \u001b[0;34m\"compression\"\u001b[0m\u001b[0;34m)\u001b[0m\u001b[0;34m:\u001b[0m\u001b[0;34m\u001b[0m\u001b[0;34m\u001b[0m\u001b[0m\n",
      "\u001b[0;32m/opt/anaconda3/lib/python3.8/site-packages/pandas/io/parsers.py\u001b[0m in \u001b[0;36m_open_handles\u001b[0;34m(self, src, kwds)\u001b[0m\n\u001b[1;32m   1360\u001b[0m         \u001b[0mLet\u001b[0m \u001b[0mthe\u001b[0m \u001b[0mreaders\u001b[0m \u001b[0mopen\u001b[0m \u001b[0mIOHanldes\u001b[0m \u001b[0mafter\u001b[0m \u001b[0mthey\u001b[0m \u001b[0mare\u001b[0m \u001b[0mdone\u001b[0m \u001b[0;32mwith\u001b[0m \u001b[0mtheir\u001b[0m \u001b[0mpotential\u001b[0m \u001b[0mraises\u001b[0m\u001b[0;34m.\u001b[0m\u001b[0;34m\u001b[0m\u001b[0;34m\u001b[0m\u001b[0m\n\u001b[1;32m   1361\u001b[0m         \"\"\"\n\u001b[0;32m-> 1362\u001b[0;31m         self.handles = get_handle(\n\u001b[0m\u001b[1;32m   1363\u001b[0m             \u001b[0msrc\u001b[0m\u001b[0;34m,\u001b[0m\u001b[0;34m\u001b[0m\u001b[0;34m\u001b[0m\u001b[0m\n\u001b[1;32m   1364\u001b[0m             \u001b[0;34m\"r\"\u001b[0m\u001b[0;34m,\u001b[0m\u001b[0;34m\u001b[0m\u001b[0;34m\u001b[0m\u001b[0m\n",
      "\u001b[0;32m/opt/anaconda3/lib/python3.8/site-packages/pandas/io/common.py\u001b[0m in \u001b[0;36mget_handle\u001b[0;34m(path_or_buf, mode, encoding, compression, memory_map, is_text, errors, storage_options)\u001b[0m\n\u001b[1;32m    640\u001b[0m                 \u001b[0merrors\u001b[0m \u001b[0;34m=\u001b[0m \u001b[0;34m\"replace\"\u001b[0m\u001b[0;34m\u001b[0m\u001b[0;34m\u001b[0m\u001b[0m\n\u001b[1;32m    641\u001b[0m             \u001b[0;31m# Encoding\u001b[0m\u001b[0;34m\u001b[0m\u001b[0;34m\u001b[0m\u001b[0;34m\u001b[0m\u001b[0m\n\u001b[0;32m--> 642\u001b[0;31m             handle = open(\n\u001b[0m\u001b[1;32m    643\u001b[0m                 \u001b[0mhandle\u001b[0m\u001b[0;34m,\u001b[0m\u001b[0;34m\u001b[0m\u001b[0;34m\u001b[0m\u001b[0m\n\u001b[1;32m    644\u001b[0m                 \u001b[0mioargs\u001b[0m\u001b[0;34m.\u001b[0m\u001b[0mmode\u001b[0m\u001b[0;34m,\u001b[0m\u001b[0;34m\u001b[0m\u001b[0;34m\u001b[0m\u001b[0m\n",
      "\u001b[0;31mFileNotFoundError\u001b[0m: [Errno 2] No such file or directory: 'vacc_vs_trustmediagov_net.csv'"
     ]
    }
   ],
   "source": [
    "df = pd.read_csv(\"vacc_vs_trustmediagov_net.csv\")\n",
    "sns.set()\n",
    "sns.pairplot(df,x_vars=[\"max_vacc\",\"Freedom of Press\",\"Internet\"], y_vars=[\"max_vacc\",\"Freedom of Press\",\"Internet\"])"
   ]
  },
  {
   "cell_type": "markdown",
   "metadata": {},
   "source": [
    "### Features and Target Preparation\n",
    "\n",
    "Describe here what are the features you use and why these features. Put any Python codes to prepare and clean up your features. \n",
    "\n",
    "Do the same thing for the target. Describe your target and put any codes to prepare your target.\n",
    "\n",
    "1. Features: \n",
    "\n",
    "    i. Freedom of Press: The Freedom of press index of a country \n",
    "    \n",
    "    ii. Internet: Percentage population who have access to internet in a country\n",
    "    \n",
    " \n",
    "2. Target: \n",
    "\n",
    "    i. max_vacc: Total vaccination of the country in 2021"
   ]
  },
  {
   "cell_type": "code",
   "execution_count": null,
   "metadata": {},
   "outputs": [],
   "source": [
    "# put Python code to prepare your featuers and target\n",
    "def prepare_feature(df_feature):\n",
    "    length = len(df_feature)\n",
    "    return np.concatenate((np.ones((length, 1)), df_feature.to_numpy()), axis = 1)\n",
    "\n",
    "#converts the target dataframe into a numpy arra\n",
    "def prepare_target(df_target):\n",
    "    return df_target.to_numpy()"
   ]
  },
  {
   "cell_type": "markdown",
   "metadata": {},
   "source": [
    "### Building Model\n",
    "\n",
    "Describe your model. Is this Linear Regression or Logistic Regression? Put any other details about the model. Put the codes to build your model.\n",
    "\n",
    "We will be implementing Multiple Linear Regression on the features and target, this is because from the plot we can observe that the max_vacc is strictly increasing with Internet whereas decresing with Freedom of press index"
   ]
  },
  {
   "cell_type": "code",
   "execution_count": 7,
   "metadata": {},
   "outputs": [],
   "source": [
    "rstate = 1500 #global random state value\n",
    "bestmodel = {}#a dictionary to store all mse values to compare the models accuracy"
   ]
  },
  {
   "cell_type": "code",
   "execution_count": 8,
   "metadata": {},
   "outputs": [],
   "source": [
    "# put Python code to build your model\n",
    "\n",
    "#takes in the dataframe, and lists of columns for features and targets, and returns the dataframes for each\n",
    "def get_features_targets(df, feature_names, target_names):\n",
    "    df_feature = df.loc[:,feature_names]\n",
    "    df_target = df.loc[:,target_names]\n",
    "    return df_feature, df_target\n",
    " \n",
    "def normalize_z(dfin, columns):\n",
    "    dfout = dfin.copy()\n",
    "    for column in columns:\n",
    "#         print(column)\n",
    "        column_frame = dfout[column]\n",
    "        mean = column_frame.mean(axis=0)\n",
    "        std = column_frame.std(axis=0)\n",
    "        dfout[column] = dfout[column].subtract(mean).div(std)\n",
    "    return dfout\n",
    "\n",
    "\n",
    "#takes in a dataframe and normalizes using z score\n",
    "def compute_cost(X, y, beta):\n",
    "    m = len(X)\n",
    "    difference = np.matmul(X, beta) - y\n",
    "    J = (np.matmul(np.transpose(difference), difference)) / (2 * m)\n",
    "    \n",
    "    return J[0][0]\n",
    "\n",
    "\n",
    "#given beta feature dataframe, outputs the predicted y values\n",
    "def predict(df_feature, beta):\n",
    "    dfin = prepare_feature(df_feature)\n",
    "    y = predict_norm(dfin, beta)\n",
    "    return y\n",
    "\n",
    "#used by predict, simply multiplies the X by beta values to give the y values\n",
    "def predict_norm(X, beta):\n",
    "    y = np.matmul(X,beta)\n",
    "    return y\n",
    "\n",
    "#takes in a feature and target dataframe, each with the same number of rows, and random_state and test_size, outputting\n",
    "#the train and test dataframe for feature and target\n",
    "def split_data(df_feature, df_target, random_state=None, test_size=0.5):\n",
    "    indexes = df_feature.index\n",
    "    if random_state:\n",
    "        np.random.seed(random_state)\n",
    "    \n",
    "    k = int(test_size*len(indexes))\n",
    "    test_index = np.random.choice(indexes,k,replace=False)\n",
    "    \n",
    "    indexes = set(indexes)\n",
    "    test_index = set(test_index)\n",
    "    train_index = indexes - test_index\n",
    "    \n",
    "    df_feature_train = df_feature.loc[train_index,:]\n",
    "    df_feature_test = df_feature.loc[test_index,:]\n",
    "    df_target_train = df_target.loc[train_index,:]\n",
    "    df_target_test = df_target.loc[test_index,:]\n",
    "    \n",
    "    return df_feature_train, df_feature_test, df_target_train, df_target_test\n",
    "\n",
    "#performs gradient descent algorithm with FIXED iterations\n",
    "def gradient_descent(X, y, beta, alpha, num_iters):\n",
    "    J_storage = []\n",
    "    m = len(X)\n",
    "    \n",
    "    for i in range(num_iters):\n",
    "        step = alpha * (np.matmul(np.transpose(X), np.matmul(X, beta) - y)) / m\n",
    "        beta = beta - step\n",
    "        #print(beta)\n",
    "        J_storage.append(compute_cost(X,y,beta))\n",
    "    return beta, J_storage\n",
    "\n",
    "#the modified function executes the gradienct descent, plots the model, calcualted the mean square error and appends it to a dictionary\n",
    "#plot is a boolean value which indicates if the model needs to be plotted\n",
    "def gradient_descent_better(features, target, beta, alpha, num_iters, df, test_size = 0.5,randomstate = None, plot = True):\n",
    "    dfcopy = df.copy()\n",
    "    dfcopy = dfcopy.dropna(subset=features + target)\n",
    "    #display(df)\n",
    "    df_feature = dfcopy.loc[:,features]\n",
    "    df_target = dfcopy.loc[:,target]\n",
    "    df_feature_train, df_feature_test, df_target_train, df_target_test = split_data(df_feature, df_target, test_size = test_size,random_state=randomstate)\n",
    "    #normalize sets\n",
    "    df_feature_test = normalize_z(df_feature_test, features)\n",
    "    df_feature_train = normalize_z(df_feature_train, target)\n",
    "    \n",
    "    X = prepare_feature(df_feature_train)\n",
    "    y = prepare_target(df_target_train)\n",
    "    \n",
    "    beta, J_storage = gradient_descent(X, y, beta, alpha, num_iters)\n",
    "    pred = predict(df_feature_test, beta)\n",
    "    \n",
    "    \n",
    "    #to check if the graph needs to be plot\n",
    "    if(plot):\n",
    "        plt.figure(0)\n",
    "        plt.plot(df_feature_test[features[0]],df_target_test, 'o')\n",
    "        plt.xlabel(\"\")\n",
    "        plt.plot(df_feature_test[features[0]],pred,'o')\n",
    "    \n",
    "    preptargettest = prepare_target(df_target_test)\n",
    "\n",
    "    #adds the mse value to a dictionary with feature names as key\n",
    "    modelname = \"\"\n",
    "    for x in features:\n",
    "        modelname+=x+\", \"\n",
    "    bestmodel[modelname] = mean_squared_error(preptargettest, pred)[0][0]"
   ]
  },
  {
   "cell_type": "markdown",
   "metadata": {},
   "source": [
    "#### Multiple Linear Regression\n",
    "$$y =  \\beta_0 + \\beta_1 x_1 + \\beta_2 x_2$$\n",
    "$$x_1 = Internet$$\n",
    "$$x_2 = Freedom\\ of\\ Press$$\n",
    "$$y = max\\ vacc$$"
   ]
  },
  {
   "cell_type": "code",
   "execution_count": 9,
   "metadata": {},
   "outputs": [
    {
     "ename": "FileNotFoundError",
     "evalue": "[Errno 2] No such file or directory: 'vacc_vs_trustmediagov_net.csv'",
     "output_type": "error",
     "traceback": [
      "\u001b[0;31m---------------------------------------------------------------------------\u001b[0m",
      "\u001b[0;31mFileNotFoundError\u001b[0m                         Traceback (most recent call last)",
      "\u001b[0;32m<ipython-input-9-44eca45d9812>\u001b[0m in \u001b[0;36m<module>\u001b[0;34m\u001b[0m\n\u001b[1;32m      4\u001b[0m     \u001b[0mgradient_descent_better\u001b[0m\u001b[0;34m(\u001b[0m\u001b[0;34m[\u001b[0m\u001b[0;34m\"Internet\"\u001b[0m\u001b[0;34m,\u001b[0m \u001b[0;34m\"Freedom of Press\"\u001b[0m\u001b[0;34m]\u001b[0m\u001b[0;34m,\u001b[0m \u001b[0;34m[\u001b[0m\u001b[0;34m\"max_vacc\"\u001b[0m\u001b[0;34m]\u001b[0m\u001b[0;34m,\u001b[0m \u001b[0mnp\u001b[0m\u001b[0;34m.\u001b[0m\u001b[0mzeros\u001b[0m\u001b[0;34m(\u001b[0m\u001b[0;34m(\u001b[0m\u001b[0;36m3\u001b[0m\u001b[0;34m,\u001b[0m\u001b[0;36m1\u001b[0m\u001b[0;34m)\u001b[0m\u001b[0;34m)\u001b[0m\u001b[0;34m,\u001b[0m \u001b[0;36m0.001\u001b[0m\u001b[0;34m,\u001b[0m \u001b[0;36m10000\u001b[0m\u001b[0;34m,\u001b[0m \u001b[0mdf\u001b[0m\u001b[0;34m,\u001b[0m \u001b[0mtest_size\u001b[0m \u001b[0;34m=\u001b[0m \u001b[0;36m0.3\u001b[0m\u001b[0;34m,\u001b[0m\u001b[0mrandomstate\u001b[0m\u001b[0;34m=\u001b[0m\u001b[0mrandstate\u001b[0m\u001b[0;34m,\u001b[0m\u001b[0mplot\u001b[0m\u001b[0;34m=\u001b[0m\u001b[0mplot\u001b[0m\u001b[0;34m)\u001b[0m\u001b[0;34m\u001b[0m\u001b[0;34m\u001b[0m\u001b[0m\n\u001b[1;32m      5\u001b[0m \u001b[0;34m\u001b[0m\u001b[0m\n\u001b[0;32m----> 6\u001b[0;31m \u001b[0mlinear_multiple_model\u001b[0m\u001b[0;34m(\u001b[0m\u001b[0;32mTrue\u001b[0m\u001b[0;34m,\u001b[0m\u001b[0mrstate\u001b[0m\u001b[0;34m)\u001b[0m\u001b[0;34m\u001b[0m\u001b[0;34m\u001b[0m\u001b[0m\n\u001b[0m",
      "\u001b[0;32m<ipython-input-9-44eca45d9812>\u001b[0m in \u001b[0;36mlinear_multiple_model\u001b[0;34m(plot, randstate)\u001b[0m\n\u001b[1;32m      1\u001b[0m \u001b[0;32mdef\u001b[0m \u001b[0mlinear_multiple_model\u001b[0m\u001b[0;34m(\u001b[0m\u001b[0mplot\u001b[0m\u001b[0;34m,\u001b[0m\u001b[0mrandstate\u001b[0m\u001b[0;34m)\u001b[0m\u001b[0;34m:\u001b[0m\u001b[0;34m\u001b[0m\u001b[0;34m\u001b[0m\u001b[0m\n\u001b[0;32m----> 2\u001b[0;31m     \u001b[0mdf\u001b[0m \u001b[0;34m=\u001b[0m \u001b[0mpd\u001b[0m\u001b[0;34m.\u001b[0m\u001b[0mread_csv\u001b[0m\u001b[0;34m(\u001b[0m\u001b[0;34m\"vacc_vs_trustmediagov_net.csv\"\u001b[0m\u001b[0;34m)\u001b[0m\u001b[0;34m\u001b[0m\u001b[0;34m\u001b[0m\u001b[0m\n\u001b[0m\u001b[1;32m      3\u001b[0m     \u001b[0msns\u001b[0m\u001b[0;34m.\u001b[0m\u001b[0mset\u001b[0m\u001b[0;34m(\u001b[0m\u001b[0;34m)\u001b[0m\u001b[0;34m\u001b[0m\u001b[0;34m\u001b[0m\u001b[0m\n\u001b[1;32m      4\u001b[0m     \u001b[0mgradient_descent_better\u001b[0m\u001b[0;34m(\u001b[0m\u001b[0;34m[\u001b[0m\u001b[0;34m\"Internet\"\u001b[0m\u001b[0;34m,\u001b[0m \u001b[0;34m\"Freedom of Press\"\u001b[0m\u001b[0;34m]\u001b[0m\u001b[0;34m,\u001b[0m \u001b[0;34m[\u001b[0m\u001b[0;34m\"max_vacc\"\u001b[0m\u001b[0;34m]\u001b[0m\u001b[0;34m,\u001b[0m \u001b[0mnp\u001b[0m\u001b[0;34m.\u001b[0m\u001b[0mzeros\u001b[0m\u001b[0;34m(\u001b[0m\u001b[0;34m(\u001b[0m\u001b[0;36m3\u001b[0m\u001b[0;34m,\u001b[0m\u001b[0;36m1\u001b[0m\u001b[0;34m)\u001b[0m\u001b[0;34m)\u001b[0m\u001b[0;34m,\u001b[0m \u001b[0;36m0.001\u001b[0m\u001b[0;34m,\u001b[0m \u001b[0;36m10000\u001b[0m\u001b[0;34m,\u001b[0m \u001b[0mdf\u001b[0m\u001b[0;34m,\u001b[0m \u001b[0mtest_size\u001b[0m \u001b[0;34m=\u001b[0m \u001b[0;36m0.3\u001b[0m\u001b[0;34m,\u001b[0m\u001b[0mrandomstate\u001b[0m\u001b[0;34m=\u001b[0m\u001b[0mrandstate\u001b[0m\u001b[0;34m,\u001b[0m\u001b[0mplot\u001b[0m\u001b[0;34m=\u001b[0m\u001b[0mplot\u001b[0m\u001b[0;34m)\u001b[0m\u001b[0;34m\u001b[0m\u001b[0;34m\u001b[0m\u001b[0m\n\u001b[1;32m      5\u001b[0m \u001b[0;34m\u001b[0m\u001b[0m\n",
      "\u001b[0;32m/opt/anaconda3/lib/python3.8/site-packages/pandas/io/parsers.py\u001b[0m in \u001b[0;36mread_csv\u001b[0;34m(filepath_or_buffer, sep, delimiter, header, names, index_col, usecols, squeeze, prefix, mangle_dupe_cols, dtype, engine, converters, true_values, false_values, skipinitialspace, skiprows, skipfooter, nrows, na_values, keep_default_na, na_filter, verbose, skip_blank_lines, parse_dates, infer_datetime_format, keep_date_col, date_parser, dayfirst, cache_dates, iterator, chunksize, compression, thousands, decimal, lineterminator, quotechar, quoting, doublequote, escapechar, comment, encoding, dialect, error_bad_lines, warn_bad_lines, delim_whitespace, low_memory, memory_map, float_precision, storage_options)\u001b[0m\n\u001b[1;32m    608\u001b[0m     \u001b[0mkwds\u001b[0m\u001b[0;34m.\u001b[0m\u001b[0mupdate\u001b[0m\u001b[0;34m(\u001b[0m\u001b[0mkwds_defaults\u001b[0m\u001b[0;34m)\u001b[0m\u001b[0;34m\u001b[0m\u001b[0;34m\u001b[0m\u001b[0m\n\u001b[1;32m    609\u001b[0m \u001b[0;34m\u001b[0m\u001b[0m\n\u001b[0;32m--> 610\u001b[0;31m     \u001b[0;32mreturn\u001b[0m \u001b[0m_read\u001b[0m\u001b[0;34m(\u001b[0m\u001b[0mfilepath_or_buffer\u001b[0m\u001b[0;34m,\u001b[0m \u001b[0mkwds\u001b[0m\u001b[0;34m)\u001b[0m\u001b[0;34m\u001b[0m\u001b[0;34m\u001b[0m\u001b[0m\n\u001b[0m\u001b[1;32m    611\u001b[0m \u001b[0;34m\u001b[0m\u001b[0m\n\u001b[1;32m    612\u001b[0m \u001b[0;34m\u001b[0m\u001b[0m\n",
      "\u001b[0;32m/opt/anaconda3/lib/python3.8/site-packages/pandas/io/parsers.py\u001b[0m in \u001b[0;36m_read\u001b[0;34m(filepath_or_buffer, kwds)\u001b[0m\n\u001b[1;32m    460\u001b[0m \u001b[0;34m\u001b[0m\u001b[0m\n\u001b[1;32m    461\u001b[0m     \u001b[0;31m# Create the parser.\u001b[0m\u001b[0;34m\u001b[0m\u001b[0;34m\u001b[0m\u001b[0;34m\u001b[0m\u001b[0m\n\u001b[0;32m--> 462\u001b[0;31m     \u001b[0mparser\u001b[0m \u001b[0;34m=\u001b[0m \u001b[0mTextFileReader\u001b[0m\u001b[0;34m(\u001b[0m\u001b[0mfilepath_or_buffer\u001b[0m\u001b[0;34m,\u001b[0m \u001b[0;34m**\u001b[0m\u001b[0mkwds\u001b[0m\u001b[0;34m)\u001b[0m\u001b[0;34m\u001b[0m\u001b[0;34m\u001b[0m\u001b[0m\n\u001b[0m\u001b[1;32m    463\u001b[0m \u001b[0;34m\u001b[0m\u001b[0m\n\u001b[1;32m    464\u001b[0m     \u001b[0;32mif\u001b[0m \u001b[0mchunksize\u001b[0m \u001b[0;32mor\u001b[0m \u001b[0miterator\u001b[0m\u001b[0;34m:\u001b[0m\u001b[0;34m\u001b[0m\u001b[0;34m\u001b[0m\u001b[0m\n",
      "\u001b[0;32m/opt/anaconda3/lib/python3.8/site-packages/pandas/io/parsers.py\u001b[0m in \u001b[0;36m__init__\u001b[0;34m(self, f, engine, **kwds)\u001b[0m\n\u001b[1;32m    817\u001b[0m             \u001b[0mself\u001b[0m\u001b[0;34m.\u001b[0m\u001b[0moptions\u001b[0m\u001b[0;34m[\u001b[0m\u001b[0;34m\"has_index_names\"\u001b[0m\u001b[0;34m]\u001b[0m \u001b[0;34m=\u001b[0m \u001b[0mkwds\u001b[0m\u001b[0;34m[\u001b[0m\u001b[0;34m\"has_index_names\"\u001b[0m\u001b[0;34m]\u001b[0m\u001b[0;34m\u001b[0m\u001b[0;34m\u001b[0m\u001b[0m\n\u001b[1;32m    818\u001b[0m \u001b[0;34m\u001b[0m\u001b[0m\n\u001b[0;32m--> 819\u001b[0;31m         \u001b[0mself\u001b[0m\u001b[0;34m.\u001b[0m\u001b[0m_engine\u001b[0m \u001b[0;34m=\u001b[0m \u001b[0mself\u001b[0m\u001b[0;34m.\u001b[0m\u001b[0m_make_engine\u001b[0m\u001b[0;34m(\u001b[0m\u001b[0mself\u001b[0m\u001b[0;34m.\u001b[0m\u001b[0mengine\u001b[0m\u001b[0;34m)\u001b[0m\u001b[0;34m\u001b[0m\u001b[0;34m\u001b[0m\u001b[0m\n\u001b[0m\u001b[1;32m    820\u001b[0m \u001b[0;34m\u001b[0m\u001b[0m\n\u001b[1;32m    821\u001b[0m     \u001b[0;32mdef\u001b[0m \u001b[0mclose\u001b[0m\u001b[0;34m(\u001b[0m\u001b[0mself\u001b[0m\u001b[0;34m)\u001b[0m\u001b[0;34m:\u001b[0m\u001b[0;34m\u001b[0m\u001b[0;34m\u001b[0m\u001b[0m\n",
      "\u001b[0;32m/opt/anaconda3/lib/python3.8/site-packages/pandas/io/parsers.py\u001b[0m in \u001b[0;36m_make_engine\u001b[0;34m(self, engine)\u001b[0m\n\u001b[1;32m   1048\u001b[0m             )\n\u001b[1;32m   1049\u001b[0m         \u001b[0;31m# error: Too many arguments for \"ParserBase\"\u001b[0m\u001b[0;34m\u001b[0m\u001b[0;34m\u001b[0m\u001b[0;34m\u001b[0m\u001b[0m\n\u001b[0;32m-> 1050\u001b[0;31m         \u001b[0;32mreturn\u001b[0m \u001b[0mmapping\u001b[0m\u001b[0;34m[\u001b[0m\u001b[0mengine\u001b[0m\u001b[0;34m]\u001b[0m\u001b[0;34m(\u001b[0m\u001b[0mself\u001b[0m\u001b[0;34m.\u001b[0m\u001b[0mf\u001b[0m\u001b[0;34m,\u001b[0m \u001b[0;34m**\u001b[0m\u001b[0mself\u001b[0m\u001b[0;34m.\u001b[0m\u001b[0moptions\u001b[0m\u001b[0;34m)\u001b[0m  \u001b[0;31m# type: ignore[call-arg]\u001b[0m\u001b[0;34m\u001b[0m\u001b[0;34m\u001b[0m\u001b[0m\n\u001b[0m\u001b[1;32m   1051\u001b[0m \u001b[0;34m\u001b[0m\u001b[0m\n\u001b[1;32m   1052\u001b[0m     \u001b[0;32mdef\u001b[0m \u001b[0m_failover_to_python\u001b[0m\u001b[0;34m(\u001b[0m\u001b[0mself\u001b[0m\u001b[0;34m)\u001b[0m\u001b[0;34m:\u001b[0m\u001b[0;34m\u001b[0m\u001b[0;34m\u001b[0m\u001b[0m\n",
      "\u001b[0;32m/opt/anaconda3/lib/python3.8/site-packages/pandas/io/parsers.py\u001b[0m in \u001b[0;36m__init__\u001b[0;34m(self, src, **kwds)\u001b[0m\n\u001b[1;32m   1865\u001b[0m \u001b[0;34m\u001b[0m\u001b[0m\n\u001b[1;32m   1866\u001b[0m         \u001b[0;31m# open handles\u001b[0m\u001b[0;34m\u001b[0m\u001b[0;34m\u001b[0m\u001b[0;34m\u001b[0m\u001b[0m\n\u001b[0;32m-> 1867\u001b[0;31m         \u001b[0mself\u001b[0m\u001b[0;34m.\u001b[0m\u001b[0m_open_handles\u001b[0m\u001b[0;34m(\u001b[0m\u001b[0msrc\u001b[0m\u001b[0;34m,\u001b[0m \u001b[0mkwds\u001b[0m\u001b[0;34m)\u001b[0m\u001b[0;34m\u001b[0m\u001b[0;34m\u001b[0m\u001b[0m\n\u001b[0m\u001b[1;32m   1868\u001b[0m         \u001b[0;32massert\u001b[0m \u001b[0mself\u001b[0m\u001b[0;34m.\u001b[0m\u001b[0mhandles\u001b[0m \u001b[0;32mis\u001b[0m \u001b[0;32mnot\u001b[0m \u001b[0;32mNone\u001b[0m\u001b[0;34m\u001b[0m\u001b[0;34m\u001b[0m\u001b[0m\n\u001b[1;32m   1869\u001b[0m         \u001b[0;32mfor\u001b[0m \u001b[0mkey\u001b[0m \u001b[0;32min\u001b[0m \u001b[0;34m(\u001b[0m\u001b[0;34m\"storage_options\"\u001b[0m\u001b[0;34m,\u001b[0m \u001b[0;34m\"encoding\"\u001b[0m\u001b[0;34m,\u001b[0m \u001b[0;34m\"memory_map\"\u001b[0m\u001b[0;34m,\u001b[0m \u001b[0;34m\"compression\"\u001b[0m\u001b[0;34m)\u001b[0m\u001b[0;34m:\u001b[0m\u001b[0;34m\u001b[0m\u001b[0;34m\u001b[0m\u001b[0m\n",
      "\u001b[0;32m/opt/anaconda3/lib/python3.8/site-packages/pandas/io/parsers.py\u001b[0m in \u001b[0;36m_open_handles\u001b[0;34m(self, src, kwds)\u001b[0m\n\u001b[1;32m   1360\u001b[0m         \u001b[0mLet\u001b[0m \u001b[0mthe\u001b[0m \u001b[0mreaders\u001b[0m \u001b[0mopen\u001b[0m \u001b[0mIOHanldes\u001b[0m \u001b[0mafter\u001b[0m \u001b[0mthey\u001b[0m \u001b[0mare\u001b[0m \u001b[0mdone\u001b[0m \u001b[0;32mwith\u001b[0m \u001b[0mtheir\u001b[0m \u001b[0mpotential\u001b[0m \u001b[0mraises\u001b[0m\u001b[0;34m.\u001b[0m\u001b[0;34m\u001b[0m\u001b[0;34m\u001b[0m\u001b[0m\n\u001b[1;32m   1361\u001b[0m         \"\"\"\n\u001b[0;32m-> 1362\u001b[0;31m         self.handles = get_handle(\n\u001b[0m\u001b[1;32m   1363\u001b[0m             \u001b[0msrc\u001b[0m\u001b[0;34m,\u001b[0m\u001b[0;34m\u001b[0m\u001b[0;34m\u001b[0m\u001b[0m\n\u001b[1;32m   1364\u001b[0m             \u001b[0;34m\"r\"\u001b[0m\u001b[0;34m,\u001b[0m\u001b[0;34m\u001b[0m\u001b[0;34m\u001b[0m\u001b[0m\n",
      "\u001b[0;32m/opt/anaconda3/lib/python3.8/site-packages/pandas/io/common.py\u001b[0m in \u001b[0;36mget_handle\u001b[0;34m(path_or_buf, mode, encoding, compression, memory_map, is_text, errors, storage_options)\u001b[0m\n\u001b[1;32m    640\u001b[0m                 \u001b[0merrors\u001b[0m \u001b[0;34m=\u001b[0m \u001b[0;34m\"replace\"\u001b[0m\u001b[0;34m\u001b[0m\u001b[0;34m\u001b[0m\u001b[0m\n\u001b[1;32m    641\u001b[0m             \u001b[0;31m# Encoding\u001b[0m\u001b[0;34m\u001b[0m\u001b[0;34m\u001b[0m\u001b[0;34m\u001b[0m\u001b[0m\n\u001b[0;32m--> 642\u001b[0;31m             handle = open(\n\u001b[0m\u001b[1;32m    643\u001b[0m                 \u001b[0mhandle\u001b[0m\u001b[0;34m,\u001b[0m\u001b[0;34m\u001b[0m\u001b[0;34m\u001b[0m\u001b[0m\n\u001b[1;32m    644\u001b[0m                 \u001b[0mioargs\u001b[0m\u001b[0;34m.\u001b[0m\u001b[0mmode\u001b[0m\u001b[0;34m,\u001b[0m\u001b[0;34m\u001b[0m\u001b[0;34m\u001b[0m\u001b[0m\n",
      "\u001b[0;31mFileNotFoundError\u001b[0m: [Errno 2] No such file or directory: 'vacc_vs_trustmediagov_net.csv'"
     ]
    }
   ],
   "source": [
    "def linear_multiple_model(plot,randstate):\n",
    "    df = pd.read_csv(\"vacc_vs_trustmediagov_net.csv\")\n",
    "    sns.set()\n",
    "    gradient_descent_better([\"Internet\", \"Freedom of Press\"], [\"max_vacc\"], np.zeros((3,1)), 0.001, 10000, df, test_size = 0.3,randomstate=randstate,plot=plot)\n",
    "\n",
    "linear_multiple_model(True,rstate)"
   ]
  },
  {
   "cell_type": "markdown",
   "metadata": {},
   "source": [
    "### Evaluating the Model\n",
    "\n",
    "Describe your metrics and how you want to evaluate your model. Put any Python code to evaluate your model. Use plots to have a visual evaluation."
   ]
  },
  {
   "cell_type": "code",
   "execution_count": 7,
   "metadata": {},
   "outputs": [],
   "source": [
    "# put Python code to evaluate the model and to visualize its accuracy\n",
    "\n",
    "#calculates the Mean Square Error of the target and predicted value\n",
    "def mean_squared_error(target, pred):\n",
    "    difference = target - pred\n",
    "    n = len(target)\n",
    "    return np.matmul(np.transpose(difference), difference) / n\n"
   ]
  },
  {
   "cell_type": "code",
   "execution_count": 10,
   "metadata": {},
   "outputs": [
    {
     "name": "stdout",
     "output_type": "stream",
     "text": [
      "{'Internet, Freedom of Press, ': 508.9809175604109}\n"
     ]
    }
   ],
   "source": [
    "print(bestmodel)\n",
    "\n"
   ]
  },
  {
   "cell_type": "markdown",
   "metadata": {},
   "source": [
    "### Improving the Model\n",
    "\n",
    "Discuss any steps you can do to improve the models. Put any python codes. You can repeat the steps above with the codes to show the improvement in the accuracy. "
   ]
  },
  {
   "cell_type": "markdown",
   "metadata": {},
   "source": [
    "The mean square value is quite high as seen above, which means that the model is not very accurate. We will now try the following \n",
    "1. Model using multiple linear regression of logarithmic of features\n",
    "2. Model multiple linear regression of exponential of features\n",
    "3. Model using polynomial expression of degree 2 \n",
    "4. Model using polynomial expression of degree 3 \n",
    "The data looks to be strictly increasing, we will not try polynomial expression of higher degrees as higher degree polynomials will have more points of maxima and minima, however this data is increasing throughout and hence higher degree won't be suitable in modelling"
   ]
  },
  {
   "cell_type": "code",
   "execution_count": 11,
   "metadata": {},
   "outputs": [],
   "source": [
    "#adds a negative exponential column of the feature i.e \n",
    "def transform_featuresexp(df_feature, colname, colname_transformed):\n",
    "    dfout = df_feature.copy()\n",
    "    dfout[colname_transformed] = math.exp(1) ** (-dfout[colname])\n",
    "    return dfout\n",
    "\n",
    "#adds a logarithmic column of the feature\n",
    "def transform_featureslog(df_feature, colname, colname_transformed):\n",
    "    dfout = df_feature.copy()\n",
    "    dfout[colname_transformed] = np.log(dfout[colname])\n",
    "    return dfout\n",
    "\n",
    "#adds a quadratic column of the feature\n",
    "def transform_featuresquad(df_feature, colname, colname_transformed):\n",
    "    dfout = df_feature.copy()\n",
    "    dfout[colname_transformed] = dfout[colname] ** 2\n",
    "    return dfout\n",
    "\n",
    "#adds a cubic column of the feature\n",
    "def transform_featurescubic(df_feature, colname, colname_transformed):\n",
    "    dfout = df_feature.copy()\n",
    "    dfout[colname_transformed] = dfout[colname] ** 3\n",
    "    return dfout\n",
    "\n"
   ]
  },
  {
   "cell_type": "markdown",
   "metadata": {},
   "source": [
    "#### Logarithmic Regression"
   ]
  },
  {
   "cell_type": "markdown",
   "metadata": {},
   "source": [
    "$$y =  \\beta_0 + \\beta_1 log(x_1) + \\beta_2 log(x_2)$$\n",
    "$$x_1 = Internet$$\n",
    "$$x_2 = Freedom\\ of\\ Press$$\n",
    "$$y = max\\ vacc$$"
   ]
  },
  {
   "cell_type": "code",
   "execution_count": 12,
   "metadata": {},
   "outputs": [
    {
     "data": {
      "image/png": "[encoded data removed]",
      "text/plain": [
       "<Figure size 432x288 with 1 Axes>"
      ]
     },
     "metadata": {},
     "output_type": "display_data"
    }
   ],
   "source": [
    "def log_multiple_model(plot,randstate):\n",
    "\n",
    "\n",
    "    df = pd.read_csv(\"vacc_vs_trustmediagov_net.csv\")\n",
    "    sns.set()\n",
    "\n",
    "    df = transform_featureslog(df,\"Freedom of Press\",\"log(Freedom of Press)\")\n",
    "    df = transform_featureslog(df,\"Internet\",\"log(Internet)\")\n",
    "\n",
    "    gradient_descent_better([\"log(Internet)\", \"log(Freedom of Press)\"], [\"max_vacc\"], np.zeros((3,1)), 0.001, 10000, df, test_size = 0.3,randomstate=rstate,plot=plot)\n",
    "\n",
    "log_multiple_model(True,rstate)"
   ]
  },
  {
   "cell_type": "markdown",
   "metadata": {},
   "source": [
    "$$y =  \\beta_0 + \\beta_1 log(x_1) + \\beta_2 x_2$$\n",
    "$$x_1 = Internet$$\n",
    "$$x_2 = Freedom\\ of\\ Press$$\n",
    "$$y = max\\ vacc$$"
   ]
  },
  {
   "cell_type": "code",
   "execution_count": 13,
   "metadata": {},
   "outputs": [
    {
     "data": {
      "image/png": "[encoded data removed]",
      "text/plain": [
       "<Figure size 432x288 with 1 Axes>"
      ]
     },
     "metadata": {},
     "output_type": "display_data"
    }
   ],
   "source": [
    "def log_internet_multiple_model(plot,randstate):\n",
    "\n",
    "\n",
    "    df = pd.read_csv(\"vacc_vs_trustmediagov_net.csv\")\n",
    "    sns.set()\n",
    "\n",
    "    df = transform_featureslog(df,\"Internet\",\"log(Internet)\")\n",
    "\n",
    "    gradient_descent_better([\"log(Internet)\", \"Freedom of Press\"], [\"max_vacc\"], np.zeros((3,1)), 0.001, 10000, df, test_size = 0.3,randomstate=randstate,plot=plot)\n",
    "\n",
    "log_internet_multiple_model(True,rstate)\n"
   ]
  },
  {
   "cell_type": "markdown",
   "metadata": {},
   "source": [
    "$$y =  \\beta_0 + \\beta_1 x_1 + \\beta_2 log(x_2)$$\n",
    "$$x_1 = Internet$$\n",
    "$$x_2 = Freedom\\ of\\ Press$$\n",
    "$$y = max\\ vacc$$"
   ]
  },
  {
   "cell_type": "code",
   "execution_count": 14,
   "metadata": {},
   "outputs": [
    {
     "data": {
      "image/png": "[encoded data removed]",
      "text/plain": [
       "<Figure size 432x288 with 1 Axes>"
      ]
     },
     "metadata": {},
     "output_type": "display_data"
    }
   ],
   "source": [
    "def log_freedomofpress_multiple_model(plot,randstate):\n",
    "\n",
    "    df = pd.read_csv(\"vacc_vs_trustmediagov_net.csv\")\n",
    "    sns.set()\n",
    "\n",
    "    df = transform_featureslog(df,\"Freedom of Press\",\"log(Freedom of Press)\")\n",
    "\n",
    "    gradient_descent_better([\"Internet\", \"log(Freedom of Press)\"], [\"max_vacc\"], np.zeros((3,1)), 0.001, 10000, df, test_size = 0.3,randomstate=randstate,plot=plot)\n",
    "\n",
    "log_freedomofpress_multiple_model(True,rstate)"
   ]
  },
  {
   "cell_type": "markdown",
   "metadata": {},
   "source": [
    "#### Exponential Regression"
   ]
  },
  {
   "cell_type": "markdown",
   "metadata": {},
   "source": [
    "$$y =  \\beta_0 + \\beta_1 x_1 + \\beta_2 e^{-x_2}$$\n",
    "$$x_1 = Internet$$\n",
    "$$x_2 = Freedom\\ of\\ Press$$\n",
    "$$y = max\\ vacc$$"
   ]
  },
  {
   "cell_type": "code",
   "execution_count": 15,
   "metadata": {},
   "outputs": [
    {
     "data": {
      "image/png": "[encoded data removed]",
      "text/plain": [
       "<Figure size 432x288 with 1 Axes>"
      ]
     },
     "metadata": {},
     "output_type": "display_data"
    }
   ],
   "source": [
    "def exp_freedomofpress_multiple_model(plot,randstate):\n",
    "    df = pd.read_csv(\"vacc_vs_trustmediagov_net.csv\")\n",
    "    df = transform_featuresexp(df,\"Freedom of Press\",\"exp(Freedom of Press)\")\n",
    "\n",
    "\n",
    "    sns.set()\n",
    "    gradient_descent_better([\"Internet\",\"exp(Freedom of Press)\"], [\"max_vacc\"], np.zeros((3,1)), 0.001, 10000, df, test_size = 0.3,randomstate=randstate,plot=plot)\n",
    "\n",
    "exp_freedomofpress_multiple_model(True,rstate)"
   ]
  },
  {
   "cell_type": "markdown",
   "metadata": {},
   "source": [
    "#### Multiple Quadratic Regression "
   ]
  },
  {
   "cell_type": "markdown",
   "metadata": {},
   "source": [
    "$$y =  \\beta_0 + \\beta_1 x_1 + \\beta_2 x_2^2$$\n",
    "$$x_1 = Internet$$\n",
    "$$x_2 = Freedom\\ of\\ Press$$\n",
    "$$y = max\\ vacc$$"
   ]
  },
  {
   "cell_type": "code",
   "execution_count": 16,
   "metadata": {},
   "outputs": [
    {
     "data": {
      "image/png": "[encoded data removed]",
      "text/plain": [
       "<Figure size 432x288 with 1 Axes>"
      ]
     },
     "metadata": {},
     "output_type": "display_data"
    }
   ],
   "source": [
    "def quad_freedom_multiple_model(plot,randstate):\n",
    "\n",
    "    df = pd.read_csv(\"vacc_vs_trustmediagov_net.csv\")\n",
    "    df = transform_featuresquad(df,\"Freedom of Press\",\"Freedom of Press^2\")\n",
    "\n",
    "    sns.set()\n",
    "\n",
    "    gradient_descent_better([\"Internet\", \"Freedom of Press^2\"], [\"max_vacc\"], np.zeros((3,1)), 0.001, 10000, df, test_size = 0.3,randomstate=randstate,plot=plot)\n",
    "\n",
    "quad_freedom_multiple_model(True,rstate)\n"
   ]
  },
  {
   "cell_type": "markdown",
   "metadata": {},
   "source": [
    "$$y =  \\beta_0 + \\beta_1 x_1^2 + \\beta_2 x_2$$\n",
    "$$x_1 = Internet$$\n",
    "$$x_2 = Freedom\\ of\\ Press$$\n",
    "$$y = max\\ vacc$$"
   ]
  },
  {
   "cell_type": "code",
   "execution_count": 17,
   "metadata": {},
   "outputs": [
    {
     "data": {
      "image/png": "[encoded data removed]",
      "text/plain": [
       "<Figure size 432x288 with 1 Axes>"
      ]
     },
     "metadata": {},
     "output_type": "display_data"
    }
   ],
   "source": [
    "def quad_internet_multiple_model(plot,randstate):\n",
    "    df = pd.read_csv(\"vacc_vs_trustmediagov_net.csv\")\n",
    "    df = transform_featuresquad(df,\"Internet\",\"Internet^2\")\n",
    "    sns.set()\n",
    "    gradient_descent_better([\"Internet^2\", \"Freedom of Press\"], [\"max_vacc\"], np.zeros((3,1)), 0.001, 10000, df, test_size = 0.3,randomstate=randstate,plot=plot)\n",
    "\n",
    "\n",
    "quad_internet_multiple_model(True,rstate)"
   ]
  },
  {
   "cell_type": "markdown",
   "metadata": {},
   "source": [
    "$$y =  \\beta_0 + \\beta_1 x_1 + \\beta_2 x_2 + \\beta_3 x_2^2$$\n",
    "$$x_1 = Internet$$\n",
    "$$x_2 = Freedom\\ of\\ Press$$\n",
    "$$y = max\\ vacc$$"
   ]
  },
  {
   "cell_type": "code",
   "execution_count": 18,
   "metadata": {},
   "outputs": [
    {
     "data": {
      "image/png": "[encoded data removed]",
      "text/plain": [
       "<Figure size 432x288 with 1 Axes>"
      ]
     },
     "metadata": {},
     "output_type": "display_data"
    }
   ],
   "source": [
    "def quad_freedom_linear_multiple_model(plot,randstate):\n",
    "    df = pd.read_csv(\"vacc_vs_trustmediagov_net.csv\")\n",
    "    df = transform_featuresquad(df,\"Freedom of Press\",\"Freedom of Press^2\")\n",
    "    sns.set()\n",
    "    gradient_descent_better([\"Internet\",\"Freedom of Press\",\"Freedom of Press^2\"], [\"max_vacc\"], np.zeros((4,1)), 0.001, 10000, df, test_size = 0.3,randomstate=randstate,plot=plot)\n",
    "\n",
    "quad_freedom_linear_multiple_model(True,rstate)"
   ]
  },
  {
   "cell_type": "markdown",
   "metadata": {},
   "source": [
    "$$y =  \\beta_0 + \\beta_1 x_1 + \\beta_2 x_1^2 + \\beta_3 x_2$$\n",
    "$$x_1 = Internet$$\n",
    "$$x_2 = Freedom\\ of\\ Press$$\n",
    "$$y = max\\ vacc$$"
   ]
  },
  {
   "cell_type": "code",
   "execution_count": 19,
   "metadata": {},
   "outputs": [
    {
     "data": {
      "image/png": "[encoded data removed]",
      "text/plain": [
       "<Figure size 432x288 with 1 Axes>"
      ]
     },
     "metadata": {},
     "output_type": "display_data"
    }
   ],
   "source": [
    "def quad_internet_linear_multiple_model(plot,randstate):\n",
    "    df = pd.read_csv(\"vacc_vs_trustmediagov_net.csv\")\n",
    "    df = transform_featuresquad(df,\"Internet\",\"Internet^2\")\n",
    "\n",
    "    sns.set()\n",
    "    gradient_descent_better([\"Internet\",\"Internet^2\",\"Freedom of Press\"], [\"max_vacc\"], np.zeros((4,1)), 0.001, 10000, df, test_size = 0.3,randomstate=randstate,plot=plot)\n",
    "\n",
    "    \n",
    "quad_internet_linear_multiple_model(True,rstate)"
   ]
  },
  {
   "cell_type": "markdown",
   "metadata": {},
   "source": [
    "$$y =  \\beta_0 + \\beta_1 x_1^2 + \\beta_3 x_2^2$$\n",
    "$$x_1 = Internet$$\n",
    "$$x_2 = Freedom\\ of\\ Press$$\n",
    "$$y = max\\ vacc$$"
   ]
  },
  {
   "cell_type": "code",
   "execution_count": 20,
   "metadata": {},
   "outputs": [
    {
     "data": {
      "image/png": "[encoded data removed]",
      "text/plain": [
       "<Figure size 432x288 with 1 Axes>"
      ]
     },
     "metadata": {},
     "output_type": "display_data"
    }
   ],
   "source": [
    "def quad_internet_freedom_multiple_model(plot,randstate):\n",
    "\n",
    "    df = pd.read_csv(\"vacc_vs_trustmediagov_net.csv\")\n",
    "    df = transform_featuresquad(df,\"Internet\",\"Internet^2\")\n",
    "    df = transform_featuresquad(df,\"Freedom of Press\",\"Freedom of Press^2\")\n",
    "\n",
    "    sns.set()\n",
    "\n",
    "    gradient_descent_better([\"Internet^2\", \"Freedom of Press^2\"], [\"max_vacc\"], np.zeros((3,1)), 0.001, 10000, df, test_size = 0.3,randomstate=randstate,plot=plot)\n",
    "    \n",
    "\n",
    "quad_internet_freedom_multiple_model(True,rstate)    "
   ]
  },
  {
   "cell_type": "markdown",
   "metadata": {},
   "source": [
    "$$y =  \\beta_0 + \\beta_1 x_1 + \\beta_2 x_1^2 + \\beta_3 x_2 + \\beta_4 x_2^2$$\n",
    "$$x_1 = Internet$$\n",
    "$$x_2 = Freedom\\ of\\ Press$$\n",
    "$$y = max\\ vacc$$"
   ]
  },
  {
   "cell_type": "code",
   "execution_count": 21,
   "metadata": {},
   "outputs": [
    {
     "data": {
      "image/png": "[encoded data removed]",
      "text/plain": [
       "<Figure size 432x288 with 1 Axes>"
      ]
     },
     "metadata": {},
     "output_type": "display_data"
    }
   ],
   "source": [
    "def quad_internet_freedom_linear_multiple_model(plot,randstate):\n",
    "\n",
    "\n",
    "    df = pd.read_csv(\"vacc_vs_trustmediagov_net.csv\")\n",
    "\n",
    "    df = transform_featuresquad(df,\"Internet\",\"Internet^2\")\n",
    "    df = transform_featuresquad(df,\"Freedom of Press\",\"Freedom of Press^2\")\n",
    "\n",
    "    sns.set()\n",
    "    gradient_descent_better([\"Internet\",\"Internet^2\",\"Freedom of Press\",\"Freedom of Press^2\"], [\"max_vacc\"], np.zeros((5,1)), 0.001, 10000, df, test_size = 0.3,randomstate=randstate,plot=plot)\n",
    "\n",
    "quad_internet_freedom_linear_multiple_model(True,rstate)"
   ]
  },
  {
   "cell_type": "markdown",
   "metadata": {},
   "source": [
    "#### Multiple Cubic Regression"
   ]
  },
  {
   "cell_type": "markdown",
   "metadata": {},
   "source": [
    "$$y =  \\beta_0 + \\beta_1 x_1^3 + \\beta_2 x_2^2 $$\n",
    "$$x_1 = Internet$$\n",
    "$$x_2 = Freedom\\ of\\ Press$$\n",
    "$$y = max\\ vacc$$"
   ]
  },
  {
   "cell_type": "code",
   "execution_count": 22,
   "metadata": {},
   "outputs": [
    {
     "data": {
      "image/png": "[encoded data removed]",
      "text/plain": [
       "<Figure size 432x288 with 1 Axes>"
      ]
     },
     "metadata": {},
     "output_type": "display_data"
    }
   ],
   "source": [
    "def cubic_internet_quad_freedom_multiple_model(plot,randstate):\n",
    "    df = pd.read_csv(\"vacc_vs_trustmediagov_net.csv\")\n",
    "    df = transform_featurescubic(df,\"Internet\",\"Internet^3\")\n",
    "    df = transform_featuresquad(df,\"Freedom of Press\",\"Freedom of Press^2\")\n",
    "    sns.set()\n",
    "    gradient_descent_better([\"Internet^3\", \"Freedom of Press^2\"], [\"max_vacc\"], np.zeros((3,1)), 0.001, 10000, df, test_size = 0.3,randomstate=randstate,plot=plot)\n",
    "cubic_internet_quad_freedom_multiple_model(True,rstate)"
   ]
  },
  {
   "cell_type": "markdown",
   "metadata": {},
   "source": [
    "$$y =  \\beta_0 + \\beta_1 x_1^3 + \\beta_2 x_2^3$$\n",
    "$$x_1 = Internet$$\n",
    "$$x_2 = Freedom\\ of\\ Press$$\n",
    "$$y = max\\ vacc$$"
   ]
  },
  {
   "cell_type": "code",
   "execution_count": 23,
   "metadata": {},
   "outputs": [
    {
     "data": {
      "image/png": "[encoded data removed]",
      "text/plain": [
       "<Figure size 432x288 with 1 Axes>"
      ]
     },
     "metadata": {},
     "output_type": "display_data"
    }
   ],
   "source": [
    "def cubic_internet_freedom_multiple_model(plot,randstate):\n",
    "\n",
    "    df = pd.read_csv(\"vacc_vs_trustmediagov_net.csv\")\n",
    "    df = transform_featurescubic(df,\"Internet\",\"Internet^3\")\n",
    "    df = transform_featurescubic(df,\"Freedom of Press\",\"Freedom of Press^3\")\n",
    "\n",
    "    sns.set()\n",
    "    gradient_descent_better([\"Internet^3\", \"Freedom of Press^3\"], [\"max_vacc\"], np.zeros((3,1)), 0.001, 10000, df, test_size = 0.3,randomstate=randstate,plot=plot)\n",
    "cubic_internet_freedom_multiple_model(True,rstate)"
   ]
  },
  {
   "cell_type": "markdown",
   "metadata": {},
   "source": [
    "$$y =  \\beta_0 + \\beta_1 x_1^2 + \\beta_2 x_1^3 + \\beta_3 x_2 + \\beta_4 x_2^2 + \\beta_5 x_2^3$$\n",
    "$$x_1 = Internet$$\n",
    "$$x_2 = Freedom\\ of\\ Press$$\n",
    "$$y = max\\ vacc$$"
   ]
  },
  {
   "cell_type": "code",
   "execution_count": 24,
   "metadata": {},
   "outputs": [
    {
     "data": {
      "image/png": "[encoded data removed]",
      "text/plain": [
       "<Figure size 432x288 with 1 Axes>"
      ]
     },
     "metadata": {},
     "output_type": "display_data"
    }
   ],
   "source": [
    "def cubic_quad_internet_freedom_lin_multiple_model(plot,randstate):\n",
    "\n",
    "    df = pd.read_csv(\"vacc_vs_trustmediagov_net.csv\")\n",
    "\n",
    "    df = transform_featuresquad(df,\"Internet\",\"Internet^2\")\n",
    "    df = transform_featuresquad(df,\"Freedom of Press\",\"Freedom of Press^2\")\n",
    "    df = transform_featurescubic(df,\"Internet\",\"Internet^3\")\n",
    "    df = transform_featurescubic(df,\"Freedom of Press\",\"Freedom of Press^3\")\n",
    "\n",
    "    sns.set()\n",
    "    gradient_descent_better([\"Internet^2\",\"Internet^3\",\"Freedom of Press\",\"Freedom of Press^2\",\"Freedom of Press^3\"], [\"max_vacc\"], np.zeros((6,1)), 0.001, 10000, df, test_size = 0.3,randomstate=randstate,plot=plot)\n",
    "\n",
    "cubic_quad_internet_freedom_lin_multiple_model(True,rstate)"
   ]
  },
  {
   "cell_type": "markdown",
   "metadata": {},
   "source": [
    "$$y =  \\beta_0 + \\beta_1 x_1 + \\beta_2 x_1^2 + \\beta_3 x_1^3 + \\beta_4 x_2^2 + \\beta_5 x_2^3$$\n",
    "$$x_1 = Internet$$\n",
    "$$x_2 = Freedom\\ of\\ Press$$\n",
    "$$y = max\\ vacc$$"
   ]
  },
  {
   "cell_type": "code",
   "execution_count": 25,
   "metadata": {},
   "outputs": [
    {
     "data": {
      "image/png": "[encoded data removed]",
      "text/plain": [
       "<Figure size 432x288 with 1 Axes>"
      ]
     },
     "metadata": {},
     "output_type": "display_data"
    }
   ],
   "source": [
    "def cubic_quad_lin_internet_freedom_multiple_model(plot,randstate):\n",
    "\n",
    "    df = pd.read_csv(\"vacc_vs_trustmediagov_net.csv\")\n",
    "\n",
    "    df = transform_featuresquad(df,\"Internet\",\"Internet^2\")\n",
    "    df = transform_featuresquad(df,\"Freedom of Press\",\"Freedom of Press^2\")\n",
    "    df = transform_featurescubic(df,\"Internet\",\"Internet^3\")\n",
    "    df = transform_featurescubic(df,\"Freedom of Press\",\"Freedom of Press^3\")\n",
    "\n",
    "    sns.set()\n",
    "    gradient_descent_better([\"Internet\",\"Internet^2\",\"Internet^3\",\"Freedom of Press^2\",\"Freedom of Press^3\"], [\"max_vacc\"], np.zeros((6,1)), 0.001, 10000, df, test_size = 0.3,randomstate=randstate,plot=plot)\n",
    "\n",
    "cubic_quad_lin_internet_freedom_multiple_model(True,rstate)"
   ]
  },
  {
   "cell_type": "markdown",
   "metadata": {},
   "source": [
    "$$y =  \\beta_0 + \\beta_1 x_1 + \\beta_2 x_1^2 + \\beta_3 x_1^3 + \\beta_4 x_2 + \\beta_5 x_2^2 + \\beta_6 x_2^3$$\n",
    "$$x_1 = Internet$$\n",
    "$$x_2 = Freedom\\ of\\ Press$$\n",
    "$$y = max\\ vacc$$"
   ]
  },
  {
   "cell_type": "code",
   "execution_count": 26,
   "metadata": {},
   "outputs": [
    {
     "data": {
      "image/png": "[encoded data removed]",
      "text/plain": [
       "<Figure size 432x288 with 1 Axes>"
      ]
     },
     "metadata": {},
     "output_type": "display_data"
    }
   ],
   "source": [
    "def cubic_quad_lin_all_internet_freedom_multiple_model(plot,randstate):\n",
    "\n",
    "\n",
    "    df = pd.read_csv(\"vacc_vs_trustmediagov_net.csv\")\n",
    "\n",
    "    df = transform_featuresquad(df,\"Internet\",\"Internet^2\")\n",
    "    df = transform_featuresquad(df,\"Freedom of Press\",\"Freedom of Press^2\")\n",
    "    df = transform_featurescubic(df,\"Internet\",\"Internet^3\")\n",
    "    df = transform_featurescubic(df,\"Freedom of Press\",\"Freedom of Press^3\")\n",
    "\n",
    "    sns.set()\n",
    "    gradient_descent_better([\"Internet\",\"Internet^2\",\"Internet^3\",\"Freedom of Press\",\"Freedom of Press^2\",\"Freedom of Press^3\"], [\"max_vacc\"], np.zeros((7,1)), 0.001, 10000, df, test_size = 0.3,randomstate=randstate,plot=plot)\n",
    "\n",
    "cubic_quad_lin_all_internet_freedom_multiple_model(True,rstate)"
   ]
  },
  {
   "cell_type": "markdown",
   "metadata": {},
   "source": [
    "### Discussion and Analysis\n",
    "\n",
    "Discuss your model and accuracy in solving the problem. Analyze the results of your metrics. Put any conclusion here."
   ]
  },
  {
   "cell_type": "markdown",
   "metadata": {},
   "source": [
    "We have stored the mean sqaure error values of all models in a dictionary called bestmodel. Now we will create another dictionary called sorted_modellist which will have the keys in ascending order of the values. Then we will convert the dictonary to a datafram for better visualisation of the mean square error values of the model"
   ]
  },
  {
   "cell_type": "code",
   "execution_count": 27,
   "metadata": {},
   "outputs": [
    {
     "data": {
      "text/html": [
       "<div>\n",
       "<style scoped>\n",
       "    .dataframe tbody tr th:only-of-type {\n",
       "        vertical-align: middle;\n",
       "    }\n",
       "\n",
       "    .dataframe tbody tr th {\n",
       "        vertical-align: top;\n",
       "    }\n",
       "\n",
       "    .dataframe thead th {\n",
       "        text-align: right;\n",
       "    }\n",
       "</style>\n",
       "<table border=\"1\" class=\"dataframe\">\n",
       "  <thead>\n",
       "    <tr style=\"text-align: right;\">\n",
       "      <th></th>\n",
       "      <th>Mean Square Error</th>\n",
       "    </tr>\n",
       "  </thead>\n",
       "  <tbody>\n",
       "    <tr>\n",
       "      <th>log(Internet), log(Freedom of Press),</th>\n",
       "      <td>490.065480</td>\n",
       "    </tr>\n",
       "    <tr>\n",
       "      <th>Internet, log(Freedom of Press),</th>\n",
       "      <td>495.588418</td>\n",
       "    </tr>\n",
       "    <tr>\n",
       "      <th>Internet, exp(Freedom of Press),</th>\n",
       "      <td>502.632529</td>\n",
       "    </tr>\n",
       "    <tr>\n",
       "      <th>log(Internet), Freedom of Press,</th>\n",
       "      <td>508.789192</td>\n",
       "    </tr>\n",
       "    <tr>\n",
       "      <th>Internet, Freedom of Press,</th>\n",
       "      <td>508.980918</td>\n",
       "    </tr>\n",
       "    <tr>\n",
       "      <th>Internet, Freedom of Press, Freedom of Press^2,</th>\n",
       "      <td>514.763494</td>\n",
       "    </tr>\n",
       "    <tr>\n",
       "      <th>Internet, Freedom of Press^2,</th>\n",
       "      <td>522.267440</td>\n",
       "    </tr>\n",
       "    <tr>\n",
       "      <th>Internet, Internet^2, Freedom of Press,</th>\n",
       "      <td>545.958553</td>\n",
       "    </tr>\n",
       "    <tr>\n",
       "      <th>Internet, Internet^2, Freedom of Press, Freedom of Press^2,</th>\n",
       "      <td>553.715199</td>\n",
       "    </tr>\n",
       "    <tr>\n",
       "      <th>Internet^2, Freedom of Press,</th>\n",
       "      <td>579.990935</td>\n",
       "    </tr>\n",
       "    <tr>\n",
       "      <th>Internet^2, Freedom of Press^2,</th>\n",
       "      <td>592.723905</td>\n",
       "    </tr>\n",
       "    <tr>\n",
       "      <th>Internet, Internet^2, Internet^3, Freedom of Press, Freedom of Press^2, Freedom of Press^3,</th>\n",
       "      <td>597.206281</td>\n",
       "    </tr>\n",
       "    <tr>\n",
       "      <th>Internet, Internet^2, Internet^3, Freedom of Press^2, Freedom of Press^3,</th>\n",
       "      <td>599.907855</td>\n",
       "    </tr>\n",
       "    <tr>\n",
       "      <th>Internet^2, Internet^3, Freedom of Press, Freedom of Press^2, Freedom of Press^3,</th>\n",
       "      <td>632.968772</td>\n",
       "    </tr>\n",
       "    <tr>\n",
       "      <th>Internet^3, Freedom of Press^2,</th>\n",
       "      <td>688.744330</td>\n",
       "    </tr>\n",
       "    <tr>\n",
       "      <th>Internet^3, Freedom of Press^3,</th>\n",
       "      <td>691.476755</td>\n",
       "    </tr>\n",
       "  </tbody>\n",
       "</table>\n",
       "</div>"
      ],
      "text/plain": [
       "                                                    Mean Square Error\n",
       "log(Internet), log(Freedom of Press),                      490.065480\n",
       "Internet, log(Freedom of Press),                           495.588418\n",
       "Internet, exp(Freedom of Press),                           502.632529\n",
       "log(Internet), Freedom of Press,                           508.789192\n",
       "Internet, Freedom of Press,                                508.980918\n",
       "Internet, Freedom of Press, Freedom of Press^2,            514.763494\n",
       "Internet, Freedom of Press^2,                              522.267440\n",
       "Internet, Internet^2, Freedom of Press,                    545.958553\n",
       "Internet, Internet^2, Freedom of Press, Freedom...         553.715199\n",
       "Internet^2, Freedom of Press,                              579.990935\n",
       "Internet^2, Freedom of Press^2,                            592.723905\n",
       "Internet, Internet^2, Internet^3, Freedom of Pr...         597.206281\n",
       "Internet, Internet^2, Internet^3, Freedom of Pr...         599.907855\n",
       "Internet^2, Internet^3, Freedom of Press, Freed...         632.968772\n",
       "Internet^3, Freedom of Press^2,                            688.744330\n",
       "Internet^3, Freedom of Press^3,                            691.476755"
      ]
     },
     "execution_count": 27,
     "metadata": {},
     "output_type": "execute_result"
    }
   ],
   "source": [
    "\n",
    "#sort the disctionary in ascending order of mse value\n",
    "sorted_modellist = {}\n",
    "sorted_keys = sorted(bestmodel, key=bestmodel.get)\n",
    "\n",
    "for w in sorted_keys:\n",
    "    sorted_modellist[w] = bestmodel[w]\n",
    "    \n",
    "#converting the sorted dictionary to a dataframe for easier visualistaion\n",
    "sorted_df_model_mse = pd.DataFrame.from_dict(sorted_modellist,orient='index',columns=[\"Mean Square Error\"])\n",
    "sorted_df_model_mse"
   ]
  },
  {
   "cell_type": "markdown",
   "metadata": {},
   "source": [
    "These are the mean square error values when the random state was equal to 1500. However, we want a model which has a consistent low mean sqaure error in different random states too. Therefore, we will execute the above models within a range of random states. We will then average the mean sqaure error value of the model over all the random states and compare them "
   ]
  },
  {
   "cell_type": "code",
   "execution_count": 28,
   "metadata": {},
   "outputs": [],
   "source": [
    "#finding the mse of the above models for different random states\n",
    "ranstates = list(range(100,1500,100))#list of different random states\n",
    "\n",
    "#looping through each random state\n",
    "\n",
    "for rs in ranstates:\n",
    "    #linear\n",
    "    #False ensures the model does not plot the data\n",
    "    linear_multiple_model(False,rs)\n",
    "        \n",
    "    #logarithmic \n",
    "    log_multiple_model(False,rs)\n",
    "    log_internet_multiple_model(False,rs)\n",
    "        \n",
    "    #exponential\n",
    "    exp_freedomofpress_multiple_model(False,rs)\n",
    "\n",
    "        \n",
    "    #quad\n",
    "    quad_freedom_multiple_model(False,rs)\n",
    "    quad_internet_multiple_model(False,rs)       \n",
    "    quad_freedom_linear_multiple_model(False,rs)   \n",
    "    quad_internet_linear_multiple_model(False,rs)   \n",
    "    quad_internet_freedom_linear_multiple_model(False,rs)\n",
    "\n",
    "        \n",
    "    #cubic\n",
    "    cubic_internet_quad_freedom_multiple_model(False,rs)   \n",
    "    cubic_internet_freedom_multiple_model(False,rs)\n",
    "    cubic_quad_internet_freedom_lin_multiple_model(False,rs)   \n",
    "    cubic_quad_lin_internet_freedom_multiple_model(False,rs)    \n",
    "    cubic_quad_lin_all_internet_freedom_multiple_model(False,rs)\n",
    "\n",
    "    \n",
    "    #adding all the mse values for each model obtained for each random state \n",
    "    for k,v in bestmodel.items():\n",
    "        sorted_modellist[k]+=bestmodel[k]"
   ]
  },
  {
   "cell_type": "code",
   "execution_count": 29,
   "metadata": {},
   "outputs": [],
   "source": [
    "#averaging the mse values over all random states\n",
    "for k,v in sorted_modellist.items():\n",
    "    sorted_modellist[k]/=(len(ranstates)+1)"
   ]
  },
  {
   "cell_type": "code",
   "execution_count": 30,
   "metadata": {},
   "outputs": [
    {
     "data": {
      "text/html": [
       "<div>\n",
       "<style scoped>\n",
       "    .dataframe tbody tr th:only-of-type {\n",
       "        vertical-align: middle;\n",
       "    }\n",
       "\n",
       "    .dataframe tbody tr th {\n",
       "        vertical-align: top;\n",
       "    }\n",
       "\n",
       "    .dataframe thead th {\n",
       "        text-align: right;\n",
       "    }\n",
       "</style>\n",
       "<table border=\"1\" class=\"dataframe\">\n",
       "  <thead>\n",
       "    <tr style=\"text-align: right;\">\n",
       "      <th></th>\n",
       "      <th>Mean Square Error</th>\n",
       "    </tr>\n",
       "  </thead>\n",
       "  <tbody>\n",
       "    <tr>\n",
       "      <th>Internet, exp(Freedom of Press),</th>\n",
       "      <td>379.651810</td>\n",
       "    </tr>\n",
       "    <tr>\n",
       "      <th>Internet, Freedom of Press, Freedom of Press^2,</th>\n",
       "      <td>388.972298</td>\n",
       "    </tr>\n",
       "    <tr>\n",
       "      <th>Internet, Freedom of Press,</th>\n",
       "      <td>391.414808</td>\n",
       "    </tr>\n",
       "    <tr>\n",
       "      <th>Internet, Freedom of Press^2,</th>\n",
       "      <td>392.531027</td>\n",
       "    </tr>\n",
       "    <tr>\n",
       "      <th>Internet, Internet^2, Freedom of Press, Freedom of Press^2,</th>\n",
       "      <td>395.447611</td>\n",
       "    </tr>\n",
       "    <tr>\n",
       "      <th>Internet, Internet^2, Freedom of Press,</th>\n",
       "      <td>396.528196</td>\n",
       "    </tr>\n",
       "    <tr>\n",
       "      <th>Internet, Internet^2, Internet^3, Freedom of Press^2, Freedom of Press^3,</th>\n",
       "      <td>406.404785</td>\n",
       "    </tr>\n",
       "    <tr>\n",
       "      <th>Internet, Internet^2, Internet^3, Freedom of Press, Freedom of Press^2, Freedom of Press^3,</th>\n",
       "      <td>406.726637</td>\n",
       "    </tr>\n",
       "    <tr>\n",
       "      <th>Internet^2, Freedom of Press,</th>\n",
       "      <td>408.321782</td>\n",
       "    </tr>\n",
       "    <tr>\n",
       "      <th>Internet^2, Internet^3, Freedom of Press, Freedom of Press^2, Freedom of Press^3,</th>\n",
       "      <td>423.551058</td>\n",
       "    </tr>\n",
       "    <tr>\n",
       "      <th>log(Internet), Freedom of Press,</th>\n",
       "      <td>428.981753</td>\n",
       "    </tr>\n",
       "    <tr>\n",
       "      <th>Internet^3, Freedom of Press^3,</th>\n",
       "      <td>452.576453</td>\n",
       "    </tr>\n",
       "    <tr>\n",
       "      <th>Internet^3, Freedom of Press^2,</th>\n",
       "      <td>453.165556</td>\n",
       "    </tr>\n",
       "    <tr>\n",
       "      <th>log(Internet), log(Freedom of Press),</th>\n",
       "      <td>490.065480</td>\n",
       "    </tr>\n",
       "    <tr>\n",
       "      <th>Internet, log(Freedom of Press),</th>\n",
       "      <td>495.588418</td>\n",
       "    </tr>\n",
       "    <tr>\n",
       "      <th>Internet^2, Freedom of Press^2,</th>\n",
       "      <td>592.723905</td>\n",
       "    </tr>\n",
       "  </tbody>\n",
       "</table>\n",
       "</div>"
      ],
      "text/plain": [
       "                                                    Mean Square Error\n",
       "Internet, exp(Freedom of Press),                           379.651810\n",
       "Internet, Freedom of Press, Freedom of Press^2,            388.972298\n",
       "Internet, Freedom of Press,                                391.414808\n",
       "Internet, Freedom of Press^2,                              392.531027\n",
       "Internet, Internet^2, Freedom of Press, Freedom...         395.447611\n",
       "Internet, Internet^2, Freedom of Press,                    396.528196\n",
       "Internet, Internet^2, Internet^3, Freedom of Pr...         406.404785\n",
       "Internet, Internet^2, Internet^3, Freedom of Pr...         406.726637\n",
       "Internet^2, Freedom of Press,                              408.321782\n",
       "Internet^2, Internet^3, Freedom of Press, Freed...         423.551058\n",
       "log(Internet), Freedom of Press,                           428.981753\n",
       "Internet^3, Freedom of Press^3,                            452.576453\n",
       "Internet^3, Freedom of Press^2,                            453.165556\n",
       "log(Internet), log(Freedom of Press),                      490.065480\n",
       "Internet, log(Freedom of Press),                           495.588418\n",
       "Internet^2, Freedom of Press^2,                            592.723905"
      ]
     },
     "execution_count": 30,
     "metadata": {},
     "output_type": "execute_result"
    }
   ],
   "source": [
    "#sort the disctionary in ascending order of avg mse value\n",
    "sorted_model_avg_mse_list = {}\n",
    "sorted_keys = sorted(sorted_modellist, key=sorted_modellist.get)\n",
    "\n",
    "for w in sorted_keys:\n",
    "    sorted_model_avg_mse_list[w] = sorted_modellist[w]\n",
    "    \n",
    "#converting the sorted dictionary to a dataframe for easier visualistaion\n",
    "sorted_df_model_avg_mse = pd.DataFrame.from_dict(sorted_model_avg_mse_list,orient='index',columns=[\"Mean Square Error\"])\n",
    "sorted_df_model_avg_mse"
   ]
  },
  {
   "cell_type": "markdown",
   "metadata": {},
   "source": [
    "On repeating the above models with different random state values, we observe that mutiple linear regression model of Internet,exponential (Freedom of Press) consistently gets a low mean sqaure error value compared to other models. Hence the total vaccination of a country is linearly dependent on the percentage population having internation access and negative exponentially dependent on the freedom of press. This result is also consistent with the individual dependency of these variables in the individual graphs. \n",
    "\n"
   ]
  }
 ],
 "metadata": {
  "kernelspec": {
   "display_name": "Python 3",
   "language": "python",
   "name": "python3"
  },
  "language_info": {
   "codemirror_mode": {
    "name": "ipython",
    "version": 3
   },
   "file_extension": ".py",
   "mimetype": "text/x-python",
   "name": "python",
   "nbconvert_exporter": "python",
   "pygments_lexer": "ipython3",
   "version": "3.8.8"
  }
 },
 "nbformat": 4,
 "nbformat_minor": 4
}
